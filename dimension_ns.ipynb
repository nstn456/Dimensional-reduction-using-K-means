{
  "cells": [
    {
      "cell_type": "code",
      "execution_count": null,
      "metadata": {
        "id": "GwckoGfFc1Oo"
      },
      "outputs": [],
      "source": [
        "import requests\n",
        "from bs4 import BeautifulSoup\n",
        "import zipfile\n",
        "import io\n",
        "import pandas as pd\n",
        "from sklearn.cluster import KMeans\n",
        "from sklearn.model_selection import train_test_split\n",
        "from sklearn.preprocessing import LabelEncoder, StandardScaler\n",
        "from sklearn.linear_model import LogisticRegression\n",
        "from sklearn.pipeline import Pipeline\n",
        "from sklearn.metrics import accuracy_score, classification_report\n",
        "from sklearn.naive_bayes import GaussianNB\n",
        "import numpy as np\n",
        "import time\n",
        "\n",
        "# Function to download and load dataset\n",
        "def load_data():\n",
        "    page_url = 'https://archive.ics.uci.edu/dataset/240/human+activity+recognition+using+smartphones'\n",
        "    page_response = requests.get(page_url)\n",
        "    if page_response.status_code == 200:\n",
        "        soup = BeautifulSoup(page_response.content, 'html.parser')\n",
        "        download_link = soup.select_one('a[href$=\".zip\"]')['href']\n",
        "        full_download_url = 'https://archive.ics.uci.edu' + download_link\n",
        "        response = requests.get(full_download_url)\n",
        "        if response.status_code == 200:\n",
        "            with zipfile.ZipFile(io.BytesIO(response.content)) as outer_zip:\n",
        "                inner_zip_name = 'UCI HAR Dataset.zip'\n",
        "                with outer_zip.open(inner_zip_name) as inner_zip_file:\n",
        "                    with zipfile.ZipFile(io.BytesIO(inner_zip_file.read())) as inner_zip:\n",
        "                        with inner_zip.open('UCI HAR Dataset/train/X_train.txt') as myfile:\n",
        "                            df = pd.read_csv(myfile, delim_whitespace=True, header=None)\n",
        "                        with inner_zip.open('UCI HAR Dataset/train/y_train.txt') as myfile_y:\n",
        "                            y = pd.read_csv(myfile_y, delim_whitespace=True, header=None)\n",
        "    else:\n",
        "        raise Exception(\"Failed to download or parse the dataset.\")\n",
        "    return df, y"
      ]
    },
    {
      "cell_type": "code",
      "execution_count": null,
      "metadata": {
        "colab": {
          "base_uri": "https://localhost:8080/"
        },
        "id": "LnvlQGt-enP_",
        "outputId": "94d84564-2a7d-42df-8da7-9b013fe27336"
      },
      "outputs": [
        {
          "name": "stderr",
          "output_type": "stream",
          "text": [
            "<ipython-input-19-2dfae89e4718>:31: FutureWarning: The 'delim_whitespace' keyword in pd.read_csv is deprecated and will be removed in a future version. Use ``sep='\\s+'`` instead\n",
            "  df = pd.read_csv(myfile, delim_whitespace=True, header=None)\n",
            "<ipython-input-19-2dfae89e4718>:33: FutureWarning: The 'delim_whitespace' keyword in pd.read_csv is deprecated and will be removed in a future version. Use ``sep='\\s+'`` instead\n",
            "  y = pd.read_csv(myfile_y, delim_whitespace=True, header=None)\n"
          ]
        }
      ],
      "source": [
        "import pandas as pd\n",
        "from sklearn.model_selection import train_test_split\n",
        "from sklearn.preprocessing import LabelEncoder, StandardScaler\n",
        "from sklearn.linear_model import LogisticRegression\n",
        "from sklearn.pipeline import Pipeline\n",
        "from sklearn.metrics import accuracy_score\n",
        "from sklearn.cluster import KMeans\n",
        "import numpy as np\n",
        "import time\n",
        "\n",
        "# Load dataset\n",
        "df, y = load_data()"
      ]
    },
    {
      "cell_type": "code",
      "execution_count": null,
      "metadata": {
        "id": "KOwT7rAleb8C"
      },
      "outputs": [],
      "source": [
        "label_encoder = LabelEncoder()\n",
        "encoded_y = label_encoder.fit_transform(y.values.ravel())"
      ]
    },
    {
      "cell_type": "code",
      "execution_count": null,
      "metadata": {
        "id": "t4D_1Rg4ezo2"
      },
      "outputs": [],
      "source": [
        "scaler = StandardScaler()\n",
        "df_scaled = scaler.fit_transform(df)"
      ]
    },
    {
      "cell_type": "code",
      "execution_count": null,
      "metadata": {
        "id": "O84b9Q1ne11s"
      },
      "outputs": [],
      "source": [
        "X_train_full, X_test_full, y_train, y_test = train_test_split(df_scaled, encoded_y, test_size=0.2, random_state=42)"
      ]
    },
    {
      "cell_type": "code",
      "execution_count": null,
      "metadata": {
        "id": "gqQ9QUfxhDQl"
      },
      "outputs": [],
      "source": [
        "start_time = time.time()\n",
        "classifier_pipeline_full = Pipeline([('classifier', GaussianNB())])\n",
        "classifier_pipeline_full.fit(X_train_full, y_train)\n",
        "y_pred_full = classifier_pipeline_full.predict(X_test_full)\n",
        "end_time = time.time()\n",
        "full_features_time = end_time - start_time\n",
        "accuracy_full = accuracy_score(y_test, y_pred_full)"
      ]
    },
    {
      "cell_type": "code",
      "execution_count": 23,
      "metadata": {
        "id": "5ohrXkG8vyXF"
      },
      "outputs": [],
      "source": [
        "n_clusters = 50\n",
        "kmeans = KMeans(n_clusters=n_clusters, random_state=42, n_init=10)\n",
        "kmeans.fit(df_scaled.T)  # Transpose to treat features as data points\n",
        "selected_features_indices = [np.random.choice(np.where(kmeans.labels_ == i)[0]) for i in range(n_clusters)]\n",
        "selected_features = df_scaled[:, selected_features_indices]"
      ]
    },
    {
      "cell_type": "code",
      "source": [
        "\n",
        "# Split the data with reduced features\n",
        "X_train_reduced, X_test_reduced = train_test_split(selected_features, test_size=0.2, random_state=42)\n",
        "\n",
        "import time\n",
        "from sklearn.naive_bayes import GaussianNB\n",
        "from sklearn.pipeline import Pipeline\n",
        "from sklearn.metrics import accuracy_score\n",
        "\n",
        "# Model with reduced features using Naive Bayes\n",
        "start_time = time.time()\n",
        "classifier_pipeline_reduced = Pipeline([\n",
        "    ('classifier', GaussianNB())\n",
        "])\n",
        "classifier_pipeline_reduced.fit(X_train_reduced, y_train)\n",
        "y_pred_reduced = classifier_pipeline_reduced.predict(X_test_reduced)\n",
        "end_time = time.time()\n",
        "reduced_features_time = end_time - start_time\n",
        "accuracy_reduced = accuracy_score(y_test, y_pred_reduced)\n",
        "\n",
        "# Print comparison results\n",
        "print(\"Baseline Model (All Features):\")\n",
        "print(\"Accuracy:\", accuracy_full)\n",
        "print(\"Training Time:\", full_features_time, \"seconds\")\n",
        "print(\"Number of Features:\", X_train_full.shape[1])\n",
        "\n",
        "print(\"\\nModel with Reduced Features (K-Means):\")\n",
        "print(\"Accuracy:\", accuracy_reduced)\n",
        "print(\"Training Time:\", reduced_features_time, \"seconds\")\n",
        "print(\"Number of Features:\", n_clusters)"
      ],
      "metadata": {
        "colab": {
          "base_uri": "https://localhost:8080/"
        },
        "id": "Sjg5_rk1zzjf",
        "outputId": "3c0bc42c-00e2-40a2-843d-ec3cd4017765"
      },
      "execution_count": 24,
      "outputs": [
        {
          "output_type": "stream",
          "name": "stdout",
          "text": [
            "Baseline Model (All Features):\n",
            "Accuracy: 0.7314751869476547\n",
            "Training Time: 0.237105131149292 seconds\n",
            "Number of Features: 561\n",
            "\n",
            "Model with Reduced Features (K-Means):\n",
            "Accuracy: 0.7756628144119646\n",
            "Training Time: 0.016963481903076172 seconds\n",
            "Number of Features: 50\n"
          ]
        }
      ]
    }
  ],
  "metadata": {
    "colab": {
      "provenance": []
    },
    "kernelspec": {
      "display_name": "Python 3",
      "name": "python3"
    },
    "language_info": {
      "name": "python"
    }
  },
  "nbformat": 4,
  "nbformat_minor": 0
}